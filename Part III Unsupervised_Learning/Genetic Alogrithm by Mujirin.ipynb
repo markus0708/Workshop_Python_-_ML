{
 "cells": [
  {
   "cell_type": "markdown",
   "metadata": {},
   "source": [
    "# Algoritma Genetik"
   ]
  },
  {
   "cell_type": "markdown",
   "metadata": {},
   "source": [
    "## Pendahuluan"
   ]
  },
  {
   "cell_type": "markdown",
   "metadata": {},
   "source": [
    "Algoritma gentik pertama dikemabangkan oleh Jhon Holland (1950an), profesor dari University of Michigan[1]. Dan bisa dibilang bahwa algoritma ini merupakan tiruan dari teori evolusi Darwin. Oleh karena itu ada 3 komponen penting yang akan diusung:\n",
    "1. warisan genetika,\n",
    "2. variasi, dan\n",
    "3. seleksi.\n",
    "\n",
    "Di tutorial ini, kita akan mencoba membuat programmnya Python setahap demi setahap untuk kasus sederhana yakni kasus kera dan puisinya."
   ]
  },
  {
   "cell_type": "markdown",
   "metadata": {},
   "source": [
    "## Kera dan puisinya"
   ]
  },
  {
   "cell_type": "markdown",
   "metadata": {},
   "source": [
    "Andai seekor kera bernama Bagus, diberi keybord dengan tombol hanya 37 karakter (36 karakter huruf dan 1 karakter spasi). Untuk membuka password komputer dia harus mengisi satu frase yakni bait pertama puisi Prof. Sapardi Djoko Damono, \"aku ingin mencintaimu dengan sederhana\". Berapakah peluang si Bagus memasukan kombinasi karakter dengan benar? Karena peluang si Bagus menekan satu karakter secara acak adalah $\\frac{1}{27}$, maka peluang menekan secara berurutan dan membentuk frasa yang diinginkan adalah $(1/27)^{38}$ karena semua ada 38 karakter termasuk spasi. Jika si Bagus bisa mengetik dengan kecepatan satu juta per detik,  dan seandainya dia telah mengetik dari saat Big Bang, maka peluang si Bagus untuk mengetik bait pertama pusisi tersebut sampai sekarang belum sampai 99%. Kita akan menyelesaikan masalah ini dengan yang lebih elegan yakni algoritma genetik, dan melihat apakah lebih cepat dari sekedar menebak acak seperti yang dilakukan si Bagus."
   ]
  },
  {
   "cell_type": "markdown",
   "metadata": {},
   "source": [
    "## Pembuatan Populasi"
   ]
  },
  {
   "cell_type": "markdown",
   "metadata": {},
   "source": [
    "Agar hasil atau solusi evolusi yang nantinya kita dapatkan optimal, dalam hal ini mencapai frasa \"aku ingin mencintaimu dengan sederhana\", maka kita memerlukan populasi yang variasinya mencukupi. Sebagai contoh, andai kita ingin mendapatkan frase \"aku\" dari evolusi, dan jika populasi kita terdiri dari tiga frase berikut: \"apo\", \"xmu\", \"xyz\", dengan kombinasi apapun, kita sulit untuk mendapatkan keturunan \"aku\" meskipun mungkin dengan adanya konsep mutasi. Lantas bagaimanakah variasi yang mencukupi tersebut? Jika kita memiliki populasi yang besar sedemikian sehingga setidaknya ada satu anggotanya yang berawalan dengan huruf \"a\", ada satu yang huruf ke duannya \"k\" dan yang ke tiga \"u\", maka kita katakan kita memiliki variasi yang mencukupi untuk mendapatkan hasil evolusi \"aku\". \n",
    "\n",
    "Pada kasus kita, setidaknya kita memerlukan spesies populasi sebesar 38 x 27 = 1026 spesies, yang dibuat secara random. Jika spesies ini belum memenuhi variasi yang diinginkan, nanti kita akan perkenalkan ada konsep untuk menambah variasi jika dari awal, variasi populasi yang dibuat tidak mencukupi."
   ]
  },
  {
   "cell_type": "markdown",
   "metadata": {},
   "source": [
    "### DNA"
   ]
  },
  {
   "cell_type": "markdown",
   "metadata": {},
   "source": [
    "Element-element dari populasi disebut spesies, dan setiap spesies dicirikan oleh DNA, yakni suatu himpunan yang beranggotakan gen-gen yang mendeskripsikan sifat-sifat spesies itu sendiri. Pada kasus kita, DNA merupakan satu set string atau frasa dan gen-gennya sendiri adalah huruf-huruf. Perlu diketahui juga, pada umumumnya terdapat perbedaan antara genotip dan fenotip, genotip merupakan informasi digital dan fenotip adalah ekspresi dari dari data tersebut. Pada kasus kita, fenotip sama dengan genotip yakni sama-sama data digital dengan tipe data string."
   ]
  },
  {
   "cell_type": "markdown",
   "metadata": {},
   "source": [
    "## Seleksi"
   ]
  },
  {
   "cell_type": "markdown",
   "metadata": {},
   "source": [
    "Seleksi dijalankan untuk mengevaluasi populasi dan menentukan spesies mana yang cocok untuk menjadi orang tua dari populasi generasi berikutnya. Pada tahap ini ada dua langkah penting, yakni evaluasi dan pembuatan kolam perkawinan:"
   ]
  },
  {
   "cell_type": "markdown",
   "metadata": {},
   "source": [
    "#### Evaluasi kecocokan"
   ]
  },
  {
   "cell_type": "markdown",
   "metadata": {},
   "source": [
    "Untuk menentukan spesies mana yang akan menjadi kandidat orang tua bagi bagi spesies populasi yang baru, kita perlu mengevaluasi setiap spesies. Oleh karena itu kita perkenalkan besaran kecocokan. Pada kasus kita, didefinisikan dengan jumlah karakter atau huruf yang sesuai dengan tujuan."
   ]
  },
  {
   "cell_type": "markdown",
   "metadata": {},
   "source": [
    "#### Pembuatan kolam perkawinan"
   ]
  },
  {
   "cell_type": "markdown",
   "metadata": {},
   "source": [
    "Meskipun setiap spesies telah memiliki nilai kecocokan $K$, namun tidak serta merta kita pilih spesies yang nilai paling tinggi untuk dipilih sebagai kandidat orang tua melainkan kita hanya memberinya kesempatan lebih besar ketimbang lainnya dengan cara memberinya peluang lebih besar. Disinilah kolam perkawinan berperan, yakni menjadi wadah bagi spesies calon orang tua sedemikian sehingga spesies yang nilainya tinggi memiliki kesempatan lebih dari pada yang nilainya dibawahnya. Untuk membuat hal tersebut, maka di dalam kolam ini, setiap spesies akan kita gandakan sebanyak nilai kecocokannya. Kemudian kita pilih 1 pasang secara acak dari kolam ini untuk didapatkan keturunan darinya.\n",
    "Cara penggandaanya adalah dengan menormalisasi $K$ kemudian dikali dengan 100"
   ]
  },
  {
   "cell_type": "markdown",
   "metadata": {},
   "source": [
    "$$J(S_j)=\\frac{K_j}{\\sum_{i=0}^{n}K_{i}}*100$$"
   ]
  },
  {
   "cell_type": "markdown",
   "metadata": {},
   "source": [
    "## Reproduksi"
   ]
  },
  {
   "cell_type": "markdown",
   "metadata": {},
   "source": [
    "Reproduksi untuk mendapatkan generasi berikutnya. Pada prinsipnya, keturunan yang didapatkan harus mewarisi gen orang tuanya. Ada beberapa teknik yang dapat digunakan: \n",
    "1. Reproduksi aseksual yakni kita memilih satu spesies dan keturunannya adalah replika dari spesies tersebut.\n",
    "2. Reproduksi seksual, teknik ini biasa digunakan dalam algortma genetik. Yakni kita memilih dua spesies untuk mendapatkan keturunan darinya. Ada dua tahap dari reproduksi ini yakni penyilangan dan mutasi."
   ]
  },
  {
   "cell_type": "markdown",
   "metadata": {},
   "source": [
    "### Penyilangan (Crossover)"
   ]
  },
  {
   "cell_type": "markdown",
   "metadata": {},
   "source": [
    "Mendapatkan keturunan dari dua spesies (A dan B), berikut sedikit dari  beberapa metode yang bisa dipakai\n",
    "1. Ambil 50% pertama dari DNA spesies A dan sisanya dari spesies B.\n",
    "2. Membuat bilangan random untuk menentukan titik silang. Jadi DNA keturunan merupakan kombinasi dari gen spesies A dari gen pertama sampai titik silang dan sisanya dari gen DNA spesies B.\n",
    "3. Setiap gen DNA keturunan dibuat dengan melempar koin dari susunan DNA awal sampai akhir, jika hasil dari lempar koin (bilangan acak 0/1) kepala, maka diurutan tersebut dari gen DNA spesies A, dan sebaliknya. Begitu seterusnya sampai semua gen keturunan terisi. "
   ]
  },
  {
   "cell_type": "markdown",
   "metadata": {},
   "source": [
    "Yang akan dipakai pada kasus kita yang nomor 3."
   ]
  },
  {
   "cell_type": "markdown",
   "metadata": {},
   "source": [
    "### Mutasi"
   ]
  },
  {
   "cell_type": "markdown",
   "metadata": {},
   "source": [
    "Setelah DNA keturunan dibuat, langkah selanjutnya dalah memutasinya sebelum dia dinyatakan sebagai anggota populasi berikutnya. Mutasi adalah langkah pilihan untuk memperkaya variasi. Mutasi memperkenalkan kepada kita variasi tambahan diseluruh proses evolusi itu sendiri. Mutasi dideskripsikan dengan besaran laju, suatu algoritma genetik dapat memiliki laju mutasi 5%, atau 0.01% bergantung karakter sistem. Mutasi sangat besar pengaruhnya terhadap karakter sistem, mutasi dengan laju 80% dapat meniadakan proses evolusi itu sendiri karena sama saja mengatakan generasi barunya dibuat secara acak, oleh karena itu kasusnya serupa dengan si Bagus yang mengetik acak.\n",
    "Mutasi yang akan dilakukan adalah dengan menyapu satu persatu gen dari DNA, jika kita pilih laju mutasi 1% maka, setiap gen memiliki kesempatan untuk bermutasi (diganti) menjadi gen baru yang diambil acak dari 27 karakter basis. "
   ]
  },
  {
   "cell_type": "markdown",
   "metadata": {},
   "source": [
    "Proses seleksi dan reproduksi (persilangan dan mutasi) dilakukan berulang-ulang sampai mendapatkan N spesies baru untuk populasi."
   ]
  },
  {
   "cell_type": "markdown",
   "metadata": {},
   "source": [
    "### Inisiasi"
   ]
  },
  {
   "cell_type": "code",
   "execution_count": 4,
   "metadata": {},
   "outputs": [
    {
     "name": "stdout",
     "output_type": "stream",
     "text": [
      "38\n"
     ]
    }
   ],
   "source": [
    "# Basis karakter(huruf)\n",
    "basis = ['a','b','c','d','e','f','g','h','i','j',\n",
    "         'k','l','m','n','o','p','q','r','s','t',\n",
    "         'u','v','w','x','y','z',' ']\n",
    "# Target\n",
    "target = ['a','k','u',' ',\n",
    "          'i','n','g','i','n',' ',\n",
    "          'm','e','n','c','i','n','t','a','i','m','u',' ',\n",
    "          'd','e','n','g','a','n',' ',\n",
    "          's','e','d','e','r','h','a','n','a']\n",
    "# Jumlah spesies jumlah basis x jumlah target\n",
    "n = len(basis)*len(target)\n",
    "#n = 100\n",
    "#n = 50000\n",
    "print(len(target))\n",
    "# Jumlah gen dalam satu DNA\n",
    "g = len(target)"
   ]
  },
  {
   "cell_type": "code",
   "execution_count": 5,
   "metadata": {
    "collapsed": true
   },
   "outputs": [],
   "source": [
    "# Fungsi untuk membuat satu spesies\n",
    "import numpy as np\n",
    "def spesiesGenerator(g):\n",
    "    spesies = []\n",
    "    for i in range(g):\n",
    "        #acak = np.random.randint(0,len(basis),1)\n",
    "        #acak = acak[0]\n",
    "        spesies.append(random.choice(basis))\n",
    "        #spesies.append(basis[acak])\n",
    "    return spesies"
   ]
  },
  {
   "cell_type": "code",
   "execution_count": 6,
   "metadata": {
    "collapsed": true
   },
   "outputs": [],
   "source": [
    "def populasiGenerator(n,g):\n",
    "    populasi = []\n",
    "    for i in range(n):\n",
    "        populasi.append(spesiesGenerator(g))\n",
    "    return populasi"
   ]
  },
  {
   "cell_type": "code",
   "execution_count": 7,
   "metadata": {
    "collapsed": true
   },
   "outputs": [],
   "source": [
    "def frasaKonverter(spesies):\n",
    "    frasa = ''\n",
    "    for i in spesies:\n",
    "        frasa = frasa+i\n",
    "    return frasa"
   ]
  },
  {
   "cell_type": "code",
   "execution_count": 8,
   "metadata": {
    "collapsed": true
   },
   "outputs": [],
   "source": [
    "#spesies = populasi[0]\n",
    "#frasa = frasaConverter(spesies)"
   ]
  },
  {
   "cell_type": "markdown",
   "metadata": {},
   "source": [
    "### Seleksi"
   ]
  },
  {
   "cell_type": "markdown",
   "metadata": {},
   "source": [
    "#### Evaluasi kecocokan"
   ]
  },
  {
   "cell_type": "code",
   "execution_count": 9,
   "metadata": {
    "collapsed": true
   },
   "outputs": [],
   "source": [
    "# Fungsi kecocokan\n",
    "def kecocokan(spesies,target):\n",
    "    skor = 0\n",
    "    for i in range(len(spesies)):\n",
    "        if spesies[i] == target[i]:\n",
    "            skor = skor+1\n",
    "    skor = skor/len(target)\n",
    "    return skor"
   ]
  },
  {
   "cell_type": "code",
   "execution_count": 10,
   "metadata": {
    "collapsed": true
   },
   "outputs": [],
   "source": [
    "def faktorPengali(populasi,target):\n",
    "    skor_populasi = []\n",
    "    for i in range(len(populasi)):\n",
    "        x = populasi[i]\n",
    "        skor_populasi.append(kecocokan(x,target))\n",
    "    pengali = []\n",
    "    for i in range(len(skor_populasi)):\n",
    "        pengali.append(int(np.ceil(skor_populasi[i]*100)))\n",
    "    return pengali"
   ]
  },
  {
   "cell_type": "code",
   "execution_count": 11,
   "metadata": {
    "collapsed": true
   },
   "outputs": [],
   "source": [
    "#pengali = faktorPengali(populasi,target)\n",
    "#print(pengali)\n",
    "#print(sum(pengali),'apakah sama dengan',n,pengali[:100])"
   ]
  },
  {
   "cell_type": "markdown",
   "metadata": {},
   "source": [
    "#### Kolam perkawinan"
   ]
  },
  {
   "cell_type": "code",
   "execution_count": 12,
   "metadata": {
    "collapsed": true
   },
   "outputs": [],
   "source": [
    "def kolamPerkawinan(populasi,pengali):\n",
    "    kolam = []\n",
    "    for i in range(len(populasi)):\n",
    "        for j in range(pengali[i]):\n",
    "            kolam.append(populasi[i])\n",
    "    return kolam"
   ]
  },
  {
   "cell_type": "code",
   "execution_count": 13,
   "metadata": {
    "collapsed": true
   },
   "outputs": [],
   "source": [
    "#kolam = kolamPerkawinan(populasi,pengali)"
   ]
  },
  {
   "cell_type": "markdown",
   "metadata": {},
   "source": [
    "### Reproduksi"
   ]
  },
  {
   "cell_type": "markdown",
   "metadata": {},
   "source": [
    "#### Pemilihan 2 spesies sebagai orang tua"
   ]
  },
  {
   "cell_type": "code",
   "execution_count": 14,
   "metadata": {
    "collapsed": true
   },
   "outputs": [],
   "source": [
    "import random\n",
    "def orangTua(kolam):\n",
    "    orang_tua = []\n",
    "    a = random.choice(kolam)\n",
    "    orang_tua.append(a)\n",
    "    kolam = [x for x in kolam if x != a] #agar orang tua tidak sama\n",
    "    #print(a in kolam)\n",
    "    orang_tua.append(random.choice(kolam))\n",
    "    return orang_tua"
   ]
  },
  {
   "cell_type": "markdown",
   "metadata": {},
   "source": [
    "#### Penyilangan"
   ]
  },
  {
   "cell_type": "code",
   "execution_count": 15,
   "metadata": {
    "collapsed": true
   },
   "outputs": [],
   "source": [
    "#def anakSilang(orang_tua):\n",
    "#    anak = []\n",
    "#    for i in range(len(orang_tua[0])):\n",
    "#        r = random.choice([0,1])\n",
    "#        #r = np.random.randint(0,2,1)\n",
    "#        if r == 0:\n",
    "#            anak.append(orang_tua[0][i])\n",
    "#        else:\n",
    "#            anak.append(orang_tua[1][i])\n",
    "#    return anak\n",
    "def anakSilang(orang_tua):\n",
    "    anak = []\n",
    "    l = list(range(len(orang_tua[0])))\n",
    "    \n",
    "    m = random.choice(l)\n",
    "    #print(m)\n",
    "    for i in range(len(orang_tua[0])):\n",
    "        if i < m:\n",
    "            anak.append(orang_tua[0][i])\n",
    "        else:\n",
    "            anak.append(orang_tua[1][i])\n",
    "    #print(len(anak))\n",
    "    #print(len(orang_tua[0]))\n",
    "    return anak\n",
    "#kolam = kolamPerkawinan(populasi,pengali)\n",
    "#orang_tua = orangTua(kolam)\n",
    "#anak = anakSilang(orang_tua)\n",
    "#print(frasaKonverter(orang_tua[0]))\n",
    "#print(frasaKonverter(orang_tua[1]))\n",
    "#print(frasaKonverter(anak))"
   ]
  },
  {
   "cell_type": "markdown",
   "metadata": {},
   "source": [
    "#### Mutasi"
   ]
  },
  {
   "cell_type": "code",
   "execution_count": 16,
   "metadata": {
    "collapsed": true
   },
   "outputs": [],
   "source": [
    "def mutasi(anak):\n",
    "    anak_mutasi = []\n",
    "    for i in range(len(anak)):\n",
    "        #r = random.choice(list(range(100))) # 1% mutation rate\n",
    "        r = random.choice(list(range(200))) # 0.5% mutation rate\n",
    "        #r = random.choice(list(range(400))) # 0.5% mutation rate\n",
    "\n",
    "        if r == 100:#5%\n",
    "         #if r == 10:\n",
    "\n",
    "            anak_mutasi.append(random.choice(basis))\n",
    "            #print('Gen ini termutasi')\n",
    "        else:\n",
    "            anak_mutasi.append(anak[i])\n",
    "    return anak_mutasi"
   ]
  },
  {
   "cell_type": "code",
   "execution_count": 17,
   "metadata": {
    "collapsed": true
   },
   "outputs": [],
   "source": [
    "#orang_tua = orangTua(kolam)"
   ]
  },
  {
   "cell_type": "code",
   "execution_count": 18,
   "metadata": {
    "collapsed": true
   },
   "outputs": [],
   "source": [
    "#anak = anakSilang(orang_tua)"
   ]
  },
  {
   "cell_type": "code",
   "execution_count": 19,
   "metadata": {
    "collapsed": true
   },
   "outputs": [],
   "source": [
    "#anak_mutasi = mutasi(anak)"
   ]
  },
  {
   "cell_type": "code",
   "execution_count": 20,
   "metadata": {
    "collapsed": true
   },
   "outputs": [],
   "source": [
    "def populasiBaru(kolam,target):\n",
    "    populasi_baru = []\n",
    "    for i in range(n):\n",
    "        orang_tua = orangTua(kolam)\n",
    "        anak = anakSilang(orang_tua)\n",
    "        anak_mutasi = mutasi(anak)\n",
    "        populasi_baru.append(anak_mutasi)\n",
    "    return populasi_baru"
   ]
  },
  {
   "cell_type": "code",
   "execution_count": 21,
   "metadata": {
    "collapsed": true
   },
   "outputs": [],
   "source": [
    "def iterasi(populasi,target):\n",
    "    it = 0\n",
    "    max_score_pengali = []\n",
    "    while True:\n",
    "        it = it + 1\n",
    "        print(it)\n",
    "        pengali = faktorPengali(populasi,target)\n",
    "        kolam = kolamPerkawinan(populasi,pengali)\n",
    "        \n",
    "        populasi = populasiBaru(kolam,target)\n",
    "        \n",
    "        max_pengali = max(pengali)\n",
    "        max_score_pengali.append(max_pengali)\n",
    "        ind = pengali.index(max_pengali)\n",
    "        \n",
    "        print('Max skor:', max_pengali)\n",
    "        print(frasaKonverter(populasi[ind]))\n",
    "        \n",
    "        if target in populasi:\n",
    "            break\n",
    "    print('Evolusi berhasil')\n",
    "\n",
    "    return populasi,max_score_pengali"
   ]
  },
  {
   "cell_type": "code",
   "execution_count": 22,
   "metadata": {
    "collapsed": true
   },
   "outputs": [],
   "source": [
    "populasi = populasiGenerator(n,g)"
   ]
  },
  {
   "cell_type": "code",
   "execution_count": 23,
   "metadata": {},
   "outputs": [
    {
     "name": "stdout",
     "output_type": "stream",
     "text": [
      "1\n",
      "Max skor: 16\n",
      "o kchxzmkxigkctexzbokysafacztboxxiwkpr\n",
      "2\n",
      "Max skor: 19\n",
      "gqmwlxzfptvdcmuybbumizoohggujubmuimbyz\n",
      "3\n",
      "Max skor: 19\n",
      "tjq xxzitza imswlayrfnksniazbddoeragmg\n",
      "4\n",
      "Max skor: 22\n",
      "akakooivi q kgvxopldjyjjhghrsqdaag jnd\n",
      "5\n",
      "Max skor: 22\n",
      "lgslmpwiefmmevzfbams  xqnwozbcbwerigsr\n",
      "6\n",
      "Max skor: 24\n",
      "a yviebvqjeegdxrpggmunecytfpwfdbdjfthi\n",
      "7\n",
      "Max skor: 29\n",
      "uceomnyvwuuuncuvfouwmvdfczhvbddoeqwfns\n",
      "8\n",
      "Max skor: 29\n",
      "aewdkntdschezsfamxshvsfejbbvigkmgsoh f\n",
      "9\n",
      "Max skor: 29\n",
      "akakooinrdrfv zftvfny beny sgtrvhrrqqr\n",
      "10\n",
      "Max skor: 35\n",
      "lzuhixalnscawdnqgmimudzqnwbkrvebrefjlf\n",
      "11\n",
      "Max skor: 35\n",
      "xounidtitzs igqltyumuohhmhapisjfeuio m\n",
      "12\n",
      "Max skor: 35\n",
      "pdrdqmmmalykzsgozufqo sznexndhewera pb\n",
      "13\n",
      "Max skor: 37\n",
      "cvyjiniirhbknscbaln oqdfpdralneheqzpeo\n",
      "14\n",
      "Max skor: 37\n",
      "lqu kkwbrlhsccnfcsywwwd rgsly bjezqpns\n",
      "15\n",
      "Max skor: 40\n",
      "ckapaqlik mfqpsnfdirdxdfclkrdbebbdaamg\n",
      "16\n",
      "Max skor: 43\n",
      "a yvktinnmichknnnzhrvndmugxbshewera pz\n",
      "17\n",
      "Max skor: 45\n",
      "rbuuintaq mfqpwdzlqmuoummhayhsmtbgdnnd\n",
      "18\n",
      "Max skor: 45\n",
      "itqrangldkteckgwzlimunnedjaczfeyenhw g\n",
      "19\n",
      "Max skor: 45\n",
      "feukld eufgknccbap cnobextfpwfdleogvnd\n",
      "20\n",
      "Max skor: 48\n",
      "a y xwqitfmk cgnli ky tdnuanfmy sngzgk\n",
      "21\n",
      "Max skor: 53\n",
      "dkumcndkpmtcpcvvcayrfnkspwoosziqehmiut\n",
      "22\n",
      "Max skor: 53\n",
      "a y kkieznmknknnnzhluynengdfulbter a k\n",
      "23\n",
      "Max skor: 53\n",
      "akunvwgnccowxlbnzvkmudzzngrnccfverm nd\n",
      "24\n",
      "Max skor: 56\n",
      "akm cnpvk mfqpvmtarmo sydhxs soyeuio v\n",
      "25\n",
      "Max skor: 53\n",
      "hku pqqik mfquvmtwpmyfqendaybeevmzqhvx\n",
      "26\n",
      "Max skor: 58\n",
      "akm k xtyzwfjlipgmimudbqnvoczojdvrgand\n",
      "27\n",
      "Max skor: 58\n",
      "akh inxipjeeqpvpdanqwzbfcdrfpsjferakmg\n",
      "28\n",
      "Max skor: 58\n",
      "dkubhnknn hqhjhndanqrudepexn ftyenhw g\n",
      "29\n"
     ]
    },
    {
     "ename": "KeyboardInterrupt",
     "evalue": "",
     "output_type": "error",
     "traceback": [
      "\u001b[0;31m---------------------------------------------------------------------------\u001b[0m",
      "\u001b[0;31mKeyboardInterrupt\u001b[0m                         Traceback (most recent call last)",
      "\u001b[0;32m<ipython-input-23-873d8cea9597>\u001b[0m in \u001b[0;36m<module>\u001b[0;34m()\u001b[0m\n\u001b[1;32m      1\u001b[0m \u001b[0;31m#populasi_baru = populasiBaru(populasi)\u001b[0m\u001b[0;34m\u001b[0m\u001b[0;34m\u001b[0m\u001b[0m\n\u001b[0;32m----> 2\u001b[0;31m \u001b[0mpopulasi\u001b[0m\u001b[0;34m,\u001b[0m\u001b[0mmax_score\u001b[0m \u001b[0;34m=\u001b[0m \u001b[0miterasi\u001b[0m\u001b[0;34m(\u001b[0m\u001b[0mpopulasi\u001b[0m\u001b[0;34m,\u001b[0m\u001b[0mtarget\u001b[0m\u001b[0;34m)\u001b[0m\u001b[0;34m\u001b[0m\u001b[0m\n\u001b[0m",
      "\u001b[0;32m<ipython-input-21-c18a3e644c63>\u001b[0m in \u001b[0;36miterasi\u001b[0;34m(populasi, target)\u001b[0m\n\u001b[1;32m      8\u001b[0m         \u001b[0mkolam\u001b[0m \u001b[0;34m=\u001b[0m \u001b[0mkolamPerkawinan\u001b[0m\u001b[0;34m(\u001b[0m\u001b[0mpopulasi\u001b[0m\u001b[0;34m,\u001b[0m\u001b[0mpengali\u001b[0m\u001b[0;34m)\u001b[0m\u001b[0;34m\u001b[0m\u001b[0m\n\u001b[1;32m      9\u001b[0m \u001b[0;34m\u001b[0m\u001b[0m\n\u001b[0;32m---> 10\u001b[0;31m         \u001b[0mpopulasi\u001b[0m \u001b[0;34m=\u001b[0m \u001b[0mpopulasiBaru\u001b[0m\u001b[0;34m(\u001b[0m\u001b[0mkolam\u001b[0m\u001b[0;34m,\u001b[0m\u001b[0mtarget\u001b[0m\u001b[0;34m)\u001b[0m\u001b[0;34m\u001b[0m\u001b[0m\n\u001b[0m\u001b[1;32m     11\u001b[0m \u001b[0;34m\u001b[0m\u001b[0m\n\u001b[1;32m     12\u001b[0m         \u001b[0mmax_pengali\u001b[0m \u001b[0;34m=\u001b[0m \u001b[0mmax\u001b[0m\u001b[0;34m(\u001b[0m\u001b[0mpengali\u001b[0m\u001b[0;34m)\u001b[0m\u001b[0;34m\u001b[0m\u001b[0m\n",
      "\u001b[0;32m<ipython-input-20-883ff38de25a>\u001b[0m in \u001b[0;36mpopulasiBaru\u001b[0;34m(kolam, target)\u001b[0m\n\u001b[1;32m      4\u001b[0m         \u001b[0morang_tua\u001b[0m \u001b[0;34m=\u001b[0m \u001b[0morangTua\u001b[0m\u001b[0;34m(\u001b[0m\u001b[0mkolam\u001b[0m\u001b[0;34m)\u001b[0m\u001b[0;34m\u001b[0m\u001b[0m\n\u001b[1;32m      5\u001b[0m         \u001b[0manak\u001b[0m \u001b[0;34m=\u001b[0m \u001b[0manakSilang\u001b[0m\u001b[0;34m(\u001b[0m\u001b[0morang_tua\u001b[0m\u001b[0;34m)\u001b[0m\u001b[0;34m\u001b[0m\u001b[0m\n\u001b[0;32m----> 6\u001b[0;31m         \u001b[0manak_mutasi\u001b[0m \u001b[0;34m=\u001b[0m \u001b[0mmutasi\u001b[0m\u001b[0;34m(\u001b[0m\u001b[0manak\u001b[0m\u001b[0;34m)\u001b[0m\u001b[0;34m\u001b[0m\u001b[0m\n\u001b[0m\u001b[1;32m      7\u001b[0m         \u001b[0mpopulasi_baru\u001b[0m\u001b[0;34m.\u001b[0m\u001b[0mappend\u001b[0m\u001b[0;34m(\u001b[0m\u001b[0manak_mutasi\u001b[0m\u001b[0;34m)\u001b[0m\u001b[0;34m\u001b[0m\u001b[0m\n\u001b[1;32m      8\u001b[0m     \u001b[0;32mreturn\u001b[0m \u001b[0mpopulasi_baru\u001b[0m\u001b[0;34m\u001b[0m\u001b[0m\n",
      "\u001b[0;32m<ipython-input-16-f424977c3b51>\u001b[0m in \u001b[0;36mmutasi\u001b[0;34m(anak)\u001b[0m\n\u001b[1;32m      3\u001b[0m     \u001b[0;32mfor\u001b[0m \u001b[0mi\u001b[0m \u001b[0;32min\u001b[0m \u001b[0mrange\u001b[0m\u001b[0;34m(\u001b[0m\u001b[0mlen\u001b[0m\u001b[0;34m(\u001b[0m\u001b[0manak\u001b[0m\u001b[0;34m)\u001b[0m\u001b[0;34m)\u001b[0m\u001b[0;34m:\u001b[0m\u001b[0;34m\u001b[0m\u001b[0m\n\u001b[1;32m      4\u001b[0m         \u001b[0;31m#r = random.choice(list(range(100))) # 1% mutation rate\u001b[0m\u001b[0;34m\u001b[0m\u001b[0;34m\u001b[0m\u001b[0m\n\u001b[0;32m----> 5\u001b[0;31m         \u001b[0mr\u001b[0m \u001b[0;34m=\u001b[0m \u001b[0mrandom\u001b[0m\u001b[0;34m.\u001b[0m\u001b[0mchoice\u001b[0m\u001b[0;34m(\u001b[0m\u001b[0mlist\u001b[0m\u001b[0;34m(\u001b[0m\u001b[0mrange\u001b[0m\u001b[0;34m(\u001b[0m\u001b[0;36m200\u001b[0m\u001b[0;34m)\u001b[0m\u001b[0;34m)\u001b[0m\u001b[0;34m)\u001b[0m \u001b[0;31m# 0.5% mutation rate\u001b[0m\u001b[0;34m\u001b[0m\u001b[0m\n\u001b[0m\u001b[1;32m      6\u001b[0m         \u001b[0;31m#r = random.choice(list(range(400))) # 0.5% mutation rate\u001b[0m\u001b[0;34m\u001b[0m\u001b[0;34m\u001b[0m\u001b[0m\n\u001b[1;32m      7\u001b[0m \u001b[0;34m\u001b[0m\u001b[0m\n",
      "\u001b[0;32m~/miniconda3/lib/python3.6/random.py\u001b[0m in \u001b[0;36mchoice\u001b[0;34m(self, seq)\u001b[0m\n\u001b[1;32m    253\u001b[0m         \u001b[0;34m\"\"\"Choose a random element from a non-empty sequence.\"\"\"\u001b[0m\u001b[0;34m\u001b[0m\u001b[0m\n\u001b[1;32m    254\u001b[0m         \u001b[0;32mtry\u001b[0m\u001b[0;34m:\u001b[0m\u001b[0;34m\u001b[0m\u001b[0m\n\u001b[0;32m--> 255\u001b[0;31m             \u001b[0mi\u001b[0m \u001b[0;34m=\u001b[0m \u001b[0mself\u001b[0m\u001b[0;34m.\u001b[0m\u001b[0m_randbelow\u001b[0m\u001b[0;34m(\u001b[0m\u001b[0mlen\u001b[0m\u001b[0;34m(\u001b[0m\u001b[0mseq\u001b[0m\u001b[0;34m)\u001b[0m\u001b[0;34m)\u001b[0m\u001b[0;34m\u001b[0m\u001b[0m\n\u001b[0m\u001b[1;32m    256\u001b[0m         \u001b[0;32mexcept\u001b[0m \u001b[0mValueError\u001b[0m\u001b[0;34m:\u001b[0m\u001b[0;34m\u001b[0m\u001b[0m\n\u001b[1;32m    257\u001b[0m             \u001b[0;32mraise\u001b[0m \u001b[0mIndexError\u001b[0m\u001b[0;34m(\u001b[0m\u001b[0;34m'Cannot choose from an empty sequence'\u001b[0m\u001b[0;34m)\u001b[0m \u001b[0;32mfrom\u001b[0m \u001b[0;32mNone\u001b[0m\u001b[0;34m\u001b[0m\u001b[0m\n",
      "\u001b[0;32m~/miniconda3/lib/python3.6/random.py\u001b[0m in \u001b[0;36m_randbelow\u001b[0;34m(self, n, int, maxsize, type, Method, BuiltinMethod)\u001b[0m\n\u001b[1;32m    228\u001b[0m         \u001b[0;31m# Only call self.getrandbits if the original random() builtin method\u001b[0m\u001b[0;34m\u001b[0m\u001b[0;34m\u001b[0m\u001b[0m\n\u001b[1;32m    229\u001b[0m         \u001b[0;31m# has not been overridden or if a new getrandbits() was supplied.\u001b[0m\u001b[0;34m\u001b[0m\u001b[0;34m\u001b[0m\u001b[0m\n\u001b[0;32m--> 230\u001b[0;31m         \u001b[0;32mif\u001b[0m \u001b[0mtype\u001b[0m\u001b[0;34m(\u001b[0m\u001b[0mrandom\u001b[0m\u001b[0;34m)\u001b[0m \u001b[0;32mis\u001b[0m \u001b[0mBuiltinMethod\u001b[0m \u001b[0;32mor\u001b[0m \u001b[0mtype\u001b[0m\u001b[0;34m(\u001b[0m\u001b[0mgetrandbits\u001b[0m\u001b[0;34m)\u001b[0m \u001b[0;32mis\u001b[0m \u001b[0mMethod\u001b[0m\u001b[0;34m:\u001b[0m\u001b[0;34m\u001b[0m\u001b[0m\n\u001b[0m\u001b[1;32m    231\u001b[0m             \u001b[0mk\u001b[0m \u001b[0;34m=\u001b[0m \u001b[0mn\u001b[0m\u001b[0;34m.\u001b[0m\u001b[0mbit_length\u001b[0m\u001b[0;34m(\u001b[0m\u001b[0;34m)\u001b[0m  \u001b[0;31m# don't use (n-1) here because n can be 1\u001b[0m\u001b[0;34m\u001b[0m\u001b[0m\n\u001b[1;32m    232\u001b[0m             \u001b[0mr\u001b[0m \u001b[0;34m=\u001b[0m \u001b[0mgetrandbits\u001b[0m\u001b[0;34m(\u001b[0m\u001b[0mk\u001b[0m\u001b[0;34m)\u001b[0m          \u001b[0;31m# 0 <= r < 2**k\u001b[0m\u001b[0;34m\u001b[0m\u001b[0m\n",
      "\u001b[0;31mKeyboardInterrupt\u001b[0m: "
     ]
    }
   ],
   "source": [
    "#populasi_baru = populasiBaru(populasi)\n",
    "populasi,max_score = iterasi(populasi,target)"
   ]
  },
  {
   "cell_type": "code",
   "execution_count": null,
   "metadata": {},
   "outputs": [],
   "source": [
    "target in populasi\n",
    "pengali = faktorPengali(populasi,target)\n",
    "max_pengali = max(pengali)\n",
    "ind = pengali.index(max_pengali)        \n",
    "print('Max skor:', max_pengali)\n",
    "print(frasaKonverter(populasi[ind]))"
   ]
  },
  {
   "cell_type": "code",
   "execution_count": null,
   "metadata": {},
   "outputs": [],
   "source": [
    "import matplotlib.pyplot as plt\n",
    "plt.plot(range(len(max_score)),max_score)\n",
    "plt.show()"
   ]
  },
  {
   "cell_type": "code",
   "execution_count": null,
   "metadata": {
    "collapsed": true
   },
   "outputs": [],
   "source": []
  },
  {
   "cell_type": "code",
   "execution_count": null,
   "metadata": {
    "collapsed": true
   },
   "outputs": [],
   "source": []
  },
  {
   "cell_type": "markdown",
   "metadata": {
    "collapsed": true
   },
   "source": [
    "__________________________________________________________________________"
   ]
  },
  {
   "cell_type": "markdown",
   "metadata": {
    "collapsed": true
   },
   "source": [
    "GAs simplelnya adalah algotirma untuk mencari kombinasi gen (DNA) yang tepat dari suatu populasi (set of species) yang anggota-angotanya dibangkitkan secara acak dari domain komponen DNA gen masing-masing.\n",
    "Jumlah anggota populasi adalah $$N(populasi)=\\sum_{g=1}^{N(gen)}\\int_{dom}d(dom)$$"
   ]
  },
  {
   "cell_type": "code",
   "execution_count": null,
   "metadata": {
    "collapsed": true
   },
   "outputs": [],
   "source": []
  },
  {
   "cell_type": "markdown",
   "metadata": {},
   "source": []
  },
  {
   "cell_type": "markdown",
   "metadata": {},
   "source": [
    "Ada 3 parameter penting yang dapat menentukan apakah alogritma genetik masuk pembelajaran dengan arahan atau tanpa arahan, yakni\n",
    "1. Seleksi (Fitness function)\n",
    "2. Rekombinasi (Crossover) dan\n",
    "3. Mutasi."
   ]
  },
  {
   "cell_type": "code",
   "execution_count": null,
   "metadata": {
    "collapsed": true
   },
   "outputs": [],
   "source": []
  }
 ],
 "metadata": {
  "kernelspec": {
   "display_name": "Python 3",
   "language": "python",
   "name": "python3"
  },
  "language_info": {
   "codemirror_mode": {
    "name": "ipython",
    "version": 3
   },
   "file_extension": ".py",
   "mimetype": "text/x-python",
   "name": "python",
   "nbconvert_exporter": "python",
   "pygments_lexer": "ipython3",
   "version": "3.6.2"
  }
 },
 "nbformat": 4,
 "nbformat_minor": 2
}
